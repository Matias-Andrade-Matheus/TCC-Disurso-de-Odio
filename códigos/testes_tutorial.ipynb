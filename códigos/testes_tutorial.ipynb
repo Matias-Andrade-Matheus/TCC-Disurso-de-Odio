{
  "cells": [
    {
      "cell_type": "code",
      "execution_count": 4,
      "metadata": {
        "id": "t2hZ_vC69_al"
      },
      "outputs": [],
      "source": [
        "import pandas as pd\n",
        "import numpy as np\n",
        "import re\n",
        "import string\n",
        "from nltk.stem import WordNetLemmatizer\n",
        "from nltk.corpus import stopwords\n",
        "from sklearn.feature_extraction.text import TfidfVectorizer\n",
        "from sklearn.model_selection import train_test_split\n",
        "from sklearn.naive_bayes import MultinomialNB\n",
        "from sklearn.ensemble import RandomForestClassifier\n",
        "from sklearn.metrics import accuracy_score\n",
        "import matplotlib.pyplot as plt\n",
        "from random import randrange\n",
        "from wordcloud import WordCloud"
      ]
    },
    {
      "cell_type": "code",
      "execution_count": 3,
      "metadata": {
        "id": "lHsWoEtg-IU5"
      },
      "outputs": [
        {
          "name": "stderr",
          "output_type": "stream",
          "text": [
            "[nltk_data] Downloading package stopwords to\n",
            "[nltk_data]     C:\\Users\\USER\\AppData\\Roaming\\nltk_data...\n",
            "[nltk_data]   Package stopwords is already up-to-date!\n",
            "[nltk_data] Downloading package wordnet to\n",
            "[nltk_data]     C:\\Users\\USER\\AppData\\Roaming\\nltk_data...\n",
            "[nltk_data]   Package wordnet is already up-to-date!\n"
          ]
        }
      ],
      "source": [
        "# Baixar recursos do NLTK (se necessário)\n",
        "import nltk\n",
        "nltk.download('stopwords')\n",
        "nltk.download('wordnet')\n",
        "stop_words = stopwords.words('portuguese')"
      ]
    },
    {
      "cell_type": "code",
      "execution_count": 5,
      "metadata": {
        "id": "DVr6Ai7GPzca"
      },
      "outputs": [],
      "source": [
        "stopwords_especificas = [\n",
        "    \"vc\", \"vcs\", \"tá\", \"ta\", \"to\", \"tô\", \"pq\", \"q\", \"né\", \"eh\", \"ai\", \"aí\", \"c\", \"d\", \"la\", \"lá\",\n",
        "    \"pro\", \"pra\", \"pras\", \"nois\", \"tbm\", \"tb\", \"oq\", \"ctz\", \"td\", \"toda\", \"todo\", \"todos\", \"ja\", \"já\",\n",
        "    \"ate\", \"até\", \"dps\", \"qdo\", \"cm\", \"rt\", \"k\", \"kkk\", \"kkk\", \"from\", \"rs\", \"aff\", \"dae\", \"dai\", \"so\", \"só\",\n",
        "    \"xq\", \"x\", \"tam\", \"vlw\", \"obg\", \"ne\", \"n\", \"ñ\", \"nn\", \"nao\", \"s\", \"ss\", \"pfv\", \"pf\", \"plz\", \"cade\",\n",
        "    \"cadê\", \"kd\", \"aki\", \"aqui\", \"ali\", \"dali\", \"naquele\", \"naquela\", \"naquilo\", \"aonde\", \"dela\", \"dele\",\n",
        "    \"deles\", \"delas\", \"mt\", \"mto\", \"mtos\", \"mta\", \"mtas\", \"oh\", \"ah\", \"ui\", \"ops\", \"wtf\", \"lol\", \"ftw\",\n",
        "    \"oxe\", \"argh\", \"eita\", \"ih\", \"ui\", \"epa\", \"oba\", \"ufa\", \"aham\", \"hmm\", \"hm\", \"hi\", \"hein\", \"puf\",\n",
        "    \"tipo\", \"tipo assim\", \"mano\", \"cara\", \"vei\", \"gente\", \"galera\", \"fia\", \"fi\", \"tamo\", \"vamo\", \"bora\"\n",
        "]\n",
        "\n",
        "stopwords_tradicionais = set(stop_words)\n",
        "\n",
        "stopwords_especificas = set(stopwords_especificas)\n",
        "\n",
        "STOPWORDS_COMPLETA = stopwords_tradicionais.union(stopwords_especificas)"
      ]
    },
    {
      "cell_type": "code",
      "execution_count": 35,
      "metadata": {},
      "outputs": [],
      "source": [
        "import re\n",
        "\n",
        "url_pattern = re.compile(\n",
        "    r'(https?:\\/\\/)?'  # protocolo opcional\n",
        "    r'(www\\.)?'         # www opcional\n",
        "    r'([a-zA-Z0-9_-]+)' # domínio\n",
        "    r'(\\.[a-zA-Z]{2,})' # extensão (.com, .io, etc)\n",
        "    r'(\\/[^\\s]*)?'       # caminho opcional\n",
        "    r'(\\?[^\\s]*)?'       # query string opcional\n",
        "    r'(#[^\\s]*)?'        # fragmento opcional\n",
        ")"
      ]
    },
    {
      "cell_type": "code",
      "execution_count": 11,
      "metadata": {
        "id": "YVnQ7wyY-V77"
      },
      "outputs": [],
      "source": [
        "# 2. Pré-processamento (corrigido) [99%]\n",
        "import unicodedata\n",
        "import string\n",
        "import re\n",
        "from nltk.stem import WordNetLemmatizer\n",
        "from nltk.corpus import stopwords\n",
        "\n",
        "def clean_text(text):\n",
        "    '''\n",
        "    Perform stop-words removal and lemmatization\n",
        "    '''\n",
        "\n",
        "    text = str(text)\n",
        "\n",
        "    text = text.lower()\n",
        "\n",
        "    text_normalize = unicodedata.normalize(\"NFKD\", text)\n",
        "    text = ''.join(\n",
        "        char for char in text_normalize\n",
        "        if not unicodedata.combining(char)\n",
        "    )\n",
        "\n",
        "    text = text.encode('ascii', 'ignore').decode('utf-8')\n",
        "\n",
        "    text = re.sub(r'@\\w+', '', text)\n",
        "\n",
        "    text = re.sub(f\"[{re.escape(string.punctuation)}]\", \" \", text)\n",
        "\n",
        "    words = text.split()\n",
        "    words = [word for word in words if not re.search('https', word) == None]\n",
        "    words = [word for word in text.split() if word not in STOPWORDS_COMPLETA ]\n",
        "    words = [WordNetLemmatizer().lemmatize(word) for word in words]\n",
        "\n",
        "    return \" \".join(words)"
      ]
    },
    {
      "cell_type": "code",
      "execution_count": 12,
      "metadata": {
        "id": "M7drhy0rpDoB"
      },
      "outputs": [],
      "source": [
        "def remover_palavras_exatas(texto: str, palavras: list[str]) -> str:\n",
        "    \"\"\"\n",
        "    Remove palavras exatas do texto usando regex, sem remover substrings.\n",
        "\n",
        "    Args:\n",
        "        texto (str): Texto de entrada.\n",
        "        palavras (list[str]): Lista de palavras a remover (exatamente).\n",
        "\n",
        "    Returns:\n",
        "        str: Texto com as palavras removidas.\n",
        "    \"\"\"\n",
        "    for palavra in palavras:\n",
        "        # Remove a palavra com delimitador de palavra (\\b) e insensível a maiúsculas\n",
        "        padrao = rf'\\b{re.escape(palavra)}\\b'\n",
        "        texto = re.sub(padrao, '', texto, flags=re.IGNORECASE)\n",
        "\n",
        "    # Limpa múltiplos espaços e espaços antes de pontuação\n",
        "    texto = re.sub(r'\\s{2,}', ' ', texto)\n",
        "    texto = re.sub(r'\\s+([,.!?;:])', r'\\1', texto)\n",
        "\n",
        "    return texto.strip()"
      ]
    },
    {
      "cell_type": "code",
      "execution_count": 7,
      "metadata": {
        "id": "KRfxKpQWFcd_"
      },
      "outputs": [],
      "source": [
        "# 2.1. Data Frame Treatment & Training and Matching Separation\n",
        "import pandas as pd\n",
        "import re\n",
        "from sklearn.model_selection import train_test_split\n",
        "\n",
        "def load_and_prepare_data(filepath, text_colum, label_colum):\n",
        "    \"\"\"Carrega e prepara os dados\"\"\"\n",
        "    # Carregar dados\n",
        "    df_TextLabel = pd.read_csv(filepath)\n",
        "\n",
        "    # Limpar textos\n",
        "    df_TextLabel['cleaned_text'] = df_TextLabel[text_colum].apply(clean_text)\n",
        "\n",
        "    # Filtrar colunas necessárias\n",
        "    df_TextLabel = df_TextLabel[['cleaned_text', label_colum]]\n",
        "    df_TextLabel.columns = ['text', 'label']\n",
        "\n",
        "    # Remover linhas vazias\n",
        "    df_TextLabel = df_TextLabel.dropna()\n",
        "    df_TextLabel = df_TextLabel[df_TextLabel['text'] != '']\n",
        "\n",
        "    return df_TextLabel\n",
        "\n",
        "def split_data(df_TextLabel):\n",
        "    \"\"\"Divide os dados em treino e teste\"\"\"\n",
        "    text_var = df_TextLabel['text']\n",
        "    label_var = df_TextLabel['label']\n",
        "    return train_test_split(text_var, label_var, test_size=0.2, random_state=42)\n",
        "\n",
        "file_path = 'Datasets/hateBR/HateBR.csv'\n",
        "text_colum = 'comentario'\n",
        "label_colum = 'label_final'\n",
        "df = load_and_prepare_data(file_path, text_colum, label_colum)\n",
        "text_train, text_test, label_train, label_test = split_data(df)"
      ]
    },
    {
      "cell_type": "code",
      "execution_count": 13,
      "metadata": {
        "id": "8p4A3QSFo0qb"
      },
      "outputs": [
        {
          "name": "stdout",
          "output_type": "stream",
          "text": [
            "Coleção de dados : 2019-05-28_portuguese_hate_speech_binary_classification.csv\n",
            "Shape : (5670, 8)\n",
            "Instâncias : hatespeech_comb\n",
            "0    3882\n",
            "1    1788\n",
            "Name: count, dtype: int64\n",
            "\n",
            "\n",
            "Coleção de dados : OffComBR3.csv\n",
            "Shape : (1033, 2)\n",
            "Instâncias : label\n",
            "no     831\n",
            "yes    202\n",
            "Name: count, dtype: int64\n",
            "\n",
            "\n",
            "Coleção de dados : OffComBR2.csv\n",
            "Shape : (1250, 2)\n",
            "Instâncias : label\n",
            "no     831\n",
            "yes    419\n",
            "Name: count, dtype: int64\n",
            "\n",
            "\n",
            "Coleção de dados : ToLD-BR_binario.csv\n",
            "Shape : (21000, 15)\n",
            "Instâncias : Discurso_de_odio\n",
            "0    11742\n",
            "1     9258\n",
            "Name: count, dtype: int64\n",
            "\n",
            "\n",
            "Coleção de dados : HateBR.csv\n",
            "Shape : (7000, 8)\n",
            "Instâncias : label_final\n",
            "1    3500\n",
            "0    3500\n",
            "Name: count, dtype: int64\n",
            "\n",
            "\n"
          ]
        }
      ],
      "source": [
        "datasets = [\n",
        "    'Datasets/OLID - BR/2019-05-28_portuguese_hate_speech_binary_classification.csv',\n",
        "    'Datasets/OffComBR-3/OffComBR3.csv',\n",
        "    'Datasets/Offcom2/OffComBR2.csv',\n",
        "    'Datasets/ToLD/ToLD-BR_binario.csv',\n",
        "    'Datasets/hateBR/HateBR.csv'\n",
        "]\n",
        "\n",
        "text=['text','mensagem','comentario','text','comentario']\n",
        "label = ['hatespeech_comb','label','label','Discurso_de_odio','label_final']\n",
        "for dataset,label in zip(datasets,label) :\n",
        "  df = pd.read_csv(dataset)\n",
        "  print(\"Coleção de dados : {}\\nShape : {}\\nInstâncias : {}\\n\\n\".format(\n",
        "      dataset.split('/')[-1],\n",
        "      df.shape,\n",
        "      df[label].value_counts()\n",
        "      ))\n"
      ]
    },
    {
      "cell_type": "code",
      "execution_count": 15,
      "metadata": {
        "colab": {
          "base_uri": "https://localhost:8080/",
          "height": 391
        },
        "id": "kmKEzQIV4rZ6",
        "outputId": "54241476-e4ed-4a82-ee14-1321371404e1"
      },
      "outputs": [
        {
          "name": "stdout",
          "output_type": "stream",
          "text": [
            "Texto Original : @Coisasdelouco Gtdá uma fuçada lá, primeiro livro da minha amiga @melaineribeiro www.aescritoraeomusico.blogspot.com (eu reviso)\n",
            "Texto Limpo : gtda fucada primeiro livro amiga www aescritoraeomusico blogspot reviso\n",
            "\n",
            "\n",
            "Texto Original : 'A bandidagem continua se escondendo'\n",
            "Texto Limpo : bandidagem continuum escondendo\n",
            "\n",
            "\n",
            "Texto Original : 'O Brasil tambem e uma das maiores economias do mundo e nem por isto e desenvolvido'\n",
            "Texto Limpo : brasil tambem maiores economias mundo desenvolvido\n",
            "\n",
            "\n",
            "Texto Original : Bolsonaro o \"mito\"?, 😝🤣 Tirou de dentro da sua cabeça oca , que crianças e adolescentes não precisam estudar, somente trabalhar . Daqui a alguns anos teremos uma legião de analfabetos idosos ... Gente estúpida é mais fácil manipular .\n",
            "Texto Limpo : bolsonaro mito tirou dentro cabeca oca criancas adolescentes precisam estudar somente trabalhar daqui alguns ano legiao analfabetos idosos estupida facil manipular\n",
            "\n",
            "\n",
            "Texto Original : 👏👏👏 Que príncipe esse meu Futuro Presidente do Brasil.\n",
            "Texto Limpo : principe futuro presidente brasil\n",
            "\n",
            "\n"
          ]
        }
      ],
      "source": [
        "import random\n",
        "for text_,dataset in zip(text,datasets):\n",
        "  df = pd.read_csv(dataset)\n",
        "  texto = df[text_]\n",
        "  texto = texto[random.randrange(len(df))]\n",
        "  limpo = clean_text(texto)\n",
        "  print(\"Texto Original : {}\\nTexto Limpo : {}\\n\\n\".format(texto,limpo))\n"
      ]
    },
    {
      "cell_type": "code",
      "execution_count": 28,
      "metadata": {
        "id": "I6pO2Or83pfa"
      },
      "outputs": [
        {
          "data": {
            "text/plain": [
              "7000"
            ]
          },
          "execution_count": 28,
          "metadata": {},
          "output_type": "execute_result"
        }
      ],
      "source": [
        "import pandas\n",
        "len(pandas.read_csv(dataset)[text_])"
      ]
    },
    {
      "cell_type": "code",
      "execution_count": 16,
      "metadata": {
        "id": "M4BQCCoFGFpS"
      },
      "outputs": [
        {
          "ename": "KeyError",
          "evalue": "'label'",
          "output_type": "error",
          "traceback": [
            "\u001b[31m---------------------------------------------------------------------------\u001b[39m",
            "\u001b[31mKeyError\u001b[39m                                  Traceback (most recent call last)",
            "\u001b[36mFile \u001b[39m\u001b[32md:\\Matheus\\Python3.13.1\\Lib\\site-packages\\pandas\\core\\indexes\\base.py:3812\u001b[39m, in \u001b[36mIndex.get_loc\u001b[39m\u001b[34m(self, key)\u001b[39m\n\u001b[32m   3811\u001b[39m \u001b[38;5;28;01mtry\u001b[39;00m:\n\u001b[32m-> \u001b[39m\u001b[32m3812\u001b[39m     \u001b[38;5;28;01mreturn\u001b[39;00m \u001b[38;5;28;43mself\u001b[39;49m\u001b[43m.\u001b[49m\u001b[43m_engine\u001b[49m\u001b[43m.\u001b[49m\u001b[43mget_loc\u001b[49m\u001b[43m(\u001b[49m\u001b[43mcasted_key\u001b[49m\u001b[43m)\u001b[49m\n\u001b[32m   3813\u001b[39m \u001b[38;5;28;01mexcept\u001b[39;00m \u001b[38;5;167;01mKeyError\u001b[39;00m \u001b[38;5;28;01mas\u001b[39;00m err:\n",
            "\u001b[36mFile \u001b[39m\u001b[32mpandas/_libs/index.pyx:167\u001b[39m, in \u001b[36mpandas._libs.index.IndexEngine.get_loc\u001b[39m\u001b[34m()\u001b[39m\n",
            "\u001b[36mFile \u001b[39m\u001b[32mpandas/_libs/index.pyx:196\u001b[39m, in \u001b[36mpandas._libs.index.IndexEngine.get_loc\u001b[39m\u001b[34m()\u001b[39m\n",
            "\u001b[36mFile \u001b[39m\u001b[32mpandas/_libs/hashtable_class_helper.pxi:7088\u001b[39m, in \u001b[36mpandas._libs.hashtable.PyObjectHashTable.get_item\u001b[39m\u001b[34m()\u001b[39m\n",
            "\u001b[36mFile \u001b[39m\u001b[32mpandas/_libs/hashtable_class_helper.pxi:7096\u001b[39m, in \u001b[36mpandas._libs.hashtable.PyObjectHashTable.get_item\u001b[39m\u001b[34m()\u001b[39m\n",
            "\u001b[31mKeyError\u001b[39m: 'label'",
            "\nThe above exception was the direct cause of the following exception:\n",
            "\u001b[31mKeyError\u001b[39m                                  Traceback (most recent call last)",
            "\u001b[36mCell\u001b[39m\u001b[36m \u001b[39m\u001b[32mIn[16]\u001b[39m\u001b[32m, line 6\u001b[39m\n\u001b[32m      3\u001b[39m \u001b[38;5;28;01mimport\u001b[39;00m\u001b[38;5;250m \u001b[39m\u001b[34;01mre\u001b[39;00m\n\u001b[32m      4\u001b[39m \u001b[38;5;28;01mfrom\u001b[39;00m\u001b[38;5;250m \u001b[39m\u001b[34;01msklearn\u001b[39;00m\u001b[34;01m.\u001b[39;00m\u001b[34;01mmodel_selection\u001b[39;00m\u001b[38;5;250m \u001b[39m\u001b[38;5;28;01mimport\u001b[39;00m train_test_split\n\u001b[32m----> \u001b[39m\u001b[32m6\u001b[39m classes = \u001b[43mdf\u001b[49m\u001b[43m[\u001b[49m\u001b[33;43m'\u001b[39;49m\u001b[33;43mlabel\u001b[39;49m\u001b[33;43m'\u001b[39;49m\u001b[43m]\u001b[49m.unique()\n\u001b[32m      7\u001b[39m random_class = classes[randrange(\u001b[38;5;28mlen\u001b[39m(classes))]\n\u001b[32m      9\u001b[39m \u001b[38;5;66;03m#class_text = ' '.join(df[df['label_final'] == random_class]['comentario'])\u001b[39;00m\n",
            "\u001b[36mFile \u001b[39m\u001b[32md:\\Matheus\\Python3.13.1\\Lib\\site-packages\\pandas\\core\\frame.py:4107\u001b[39m, in \u001b[36mDataFrame.__getitem__\u001b[39m\u001b[34m(self, key)\u001b[39m\n\u001b[32m   4105\u001b[39m \u001b[38;5;28;01mif\u001b[39;00m \u001b[38;5;28mself\u001b[39m.columns.nlevels > \u001b[32m1\u001b[39m:\n\u001b[32m   4106\u001b[39m     \u001b[38;5;28;01mreturn\u001b[39;00m \u001b[38;5;28mself\u001b[39m._getitem_multilevel(key)\n\u001b[32m-> \u001b[39m\u001b[32m4107\u001b[39m indexer = \u001b[38;5;28;43mself\u001b[39;49m\u001b[43m.\u001b[49m\u001b[43mcolumns\u001b[49m\u001b[43m.\u001b[49m\u001b[43mget_loc\u001b[49m\u001b[43m(\u001b[49m\u001b[43mkey\u001b[49m\u001b[43m)\u001b[49m\n\u001b[32m   4108\u001b[39m \u001b[38;5;28;01mif\u001b[39;00m is_integer(indexer):\n\u001b[32m   4109\u001b[39m     indexer = [indexer]\n",
            "\u001b[36mFile \u001b[39m\u001b[32md:\\Matheus\\Python3.13.1\\Lib\\site-packages\\pandas\\core\\indexes\\base.py:3819\u001b[39m, in \u001b[36mIndex.get_loc\u001b[39m\u001b[34m(self, key)\u001b[39m\n\u001b[32m   3814\u001b[39m     \u001b[38;5;28;01mif\u001b[39;00m \u001b[38;5;28misinstance\u001b[39m(casted_key, \u001b[38;5;28mslice\u001b[39m) \u001b[38;5;129;01mor\u001b[39;00m (\n\u001b[32m   3815\u001b[39m         \u001b[38;5;28misinstance\u001b[39m(casted_key, abc.Iterable)\n\u001b[32m   3816\u001b[39m         \u001b[38;5;129;01mand\u001b[39;00m \u001b[38;5;28many\u001b[39m(\u001b[38;5;28misinstance\u001b[39m(x, \u001b[38;5;28mslice\u001b[39m) \u001b[38;5;28;01mfor\u001b[39;00m x \u001b[38;5;129;01min\u001b[39;00m casted_key)\n\u001b[32m   3817\u001b[39m     ):\n\u001b[32m   3818\u001b[39m         \u001b[38;5;28;01mraise\u001b[39;00m InvalidIndexError(key)\n\u001b[32m-> \u001b[39m\u001b[32m3819\u001b[39m     \u001b[38;5;28;01mraise\u001b[39;00m \u001b[38;5;167;01mKeyError\u001b[39;00m(key) \u001b[38;5;28;01mfrom\u001b[39;00m\u001b[38;5;250m \u001b[39m\u001b[34;01merr\u001b[39;00m\n\u001b[32m   3820\u001b[39m \u001b[38;5;28;01mexcept\u001b[39;00m \u001b[38;5;167;01mTypeError\u001b[39;00m:\n\u001b[32m   3821\u001b[39m     \u001b[38;5;66;03m# If we have a listlike key, _check_indexing_error will raise\u001b[39;00m\n\u001b[32m   3822\u001b[39m     \u001b[38;5;66;03m#  InvalidIndexError. Otherwise we fall through and re-raise\u001b[39;00m\n\u001b[32m   3823\u001b[39m     \u001b[38;5;66;03m#  the TypeError.\u001b[39;00m\n\u001b[32m   3824\u001b[39m     \u001b[38;5;28mself\u001b[39m._check_indexing_error(key)\n",
            "\u001b[31mKeyError\u001b[39m: 'label'"
          ]
        }
      ],
      "source": [
        "# 2.2.1. Data Exploration & Visualization (Word Cloud)[80%]\n",
        "import pandas as pd\n",
        "import re\n",
        "from sklearn.model_selection import train_test_split\n",
        "\n",
        "classes = df['label'].unique()\n",
        "random_class = classes[randrange(len(classes))]\n",
        "\n",
        "#class_text = ' '.join(df[df['label_final'] == random_class]['comentario'])\n",
        "class_text = ' '.join(df['text'])\n",
        "\n",
        "# Gerar a nuvem de palavras\n",
        "wordcloud = WordCloud(width=800, height=800,\n",
        "                         background_color='black',\n",
        "                         stopwords=\"portuguese\",\n",
        "                         collocations=True).generate(class_text)\n",
        "\n",
        "# Plotar\n",
        "plt.figure(figsize=(8, 8))\n",
        "plt.imshow(wordcloud, interpolation='bilinear')\n",
        "plt.axis('off')\n",
        "plt.title(f'Nuvem de Palavras para Classe: {random_class}')\n",
        "plt.show()"
      ]
    },
    {
      "cell_type": "code",
      "execution_count": null,
      "metadata": {
        "colab": {
          "base_uri": "https://localhost:8080/",
          "height": 407
        },
        "id": "aOMzKN7RTQqQ",
        "outputId": "6b8c1e1b-f1b3-4cd5-befa-7d65c831d4bc"
      },
      "outputs": [
        {
          "data": {
            "image/png": "[encoded data removed]",
            "text/plain": [
              "<Figure size 600x400 with 1 Axes>"
            ]
          },
          "metadata": {},
          "output_type": "display_data"
        },
        {
          "ename": "",
          "evalue": "",
          "output_type": "error",
          "traceback": [
            "\u001b[1;31mnotebook controller is DISPOSED. \n",
            "\u001b[1;31mConsulte o <a href='command:jupyter.viewOutput'>log</a> do Jupyter para obter mais detalhes."
          ]
        }
      ],
      "source": [
        "# 2.2.2. Visualisation (Visualizing word count balance in bar chart) [99%]\n",
        "\n",
        "category_column = 'label'\n",
        "\n",
        "# Criando o gráfico\n",
        "plt.figure(figsize=(6, 4))\n",
        "\n",
        "# Contando os textos por categoria e plotando\n",
        "df.groupby(category_column).size().sort_values(ascending=False).plot.bar(color='#1f77b4')\n",
        "\n",
        "# Adicionando título e labels\n",
        "plt.title(\"Distribuição de Textos por Categoria no HateBR\", pad=20, fontsize=14)\n",
        "plt.xlabel(\"Categoria\", labelpad=10)\n",
        "plt.ylabel(\"Número de Textos\", labelpad=10)\n",
        "plt.xticks(rotation=45, ha='right')\n",
        "\n",
        "# Ajustando layout para não cortar rótulos\n",
        "plt.tight_layout()\n",
        "\n",
        "# Mostrando o gráfico\n",
        "plt.show()"
      ]
    },
    {
      "cell_type": "code",
      "execution_count": null,
      "metadata": {
        "id": "xPouUkNY-Ye6"
      },
      "outputs": [
        {
          "ename": "",
          "evalue": "",
          "output_type": "error",
          "traceback": [
            "\u001b[1;31mnotebook controller is DISPOSED. \n",
            "\u001b[1;31mConsulte o <a href='command:jupyter.viewOutput'>log</a> do Jupyter para obter mais detalhes."
          ]
        }
      ],
      "source": [
        "# 3. TF-IDF Vectorizer\n",
        "tfidf_vectorizer = TfidfVectorizer(min_df=5, ngram_range=(1, 2))"
      ]
    },
    {
      "cell_type": "code",
      "execution_count": 17,
      "metadata": {
        "id": "28axdk-I-xOV"
      },
      "outputs": [
        {
          "ename": "NameError",
          "evalue": "name 'tfidf_vectorizer' is not defined",
          "output_type": "error",
          "traceback": [
            "\u001b[31m---------------------------------------------------------------------------\u001b[39m",
            "\u001b[31mNameError\u001b[39m                                 Traceback (most recent call last)",
            "\u001b[36mCell\u001b[39m\u001b[36m \u001b[39m\u001b[32mIn[17]\u001b[39m\u001b[32m, line 4\u001b[39m\n\u001b[32m      1\u001b[39m \u001b[38;5;28;01mfrom\u001b[39;00m\u001b[38;5;250m \u001b[39m\u001b[34;01msklearn\u001b[39;00m\u001b[34;01m.\u001b[39;00m\u001b[34;01mmetrics\u001b[39;00m\u001b[38;5;250m \u001b[39m\u001b[38;5;28;01mimport\u001b[39;00m f1_score\n\u001b[32m      2\u001b[39m \u001b[38;5;66;03m# 4.1. Classification (Model Trainer) [99%]\u001b[39;00m\n\u001b[32m      3\u001b[39m \u001b[38;5;66;03m# Fit the TF-IDF vectorizer on the training data and transform\u001b[39;00m\n\u001b[32m----> \u001b[39m\u001b[32m4\u001b[39m X_train_vectorized = \u001b[43mtfidf_vectorizer\u001b[49m.fit_transform(text_train)\n\u001b[32m      5\u001b[39m X_test_vectorized = tfidf_vectorizer.transform(text_test)\n\u001b[32m      8\u001b[39m \u001b[38;5;66;03m# Multinomial Naive Bayes\u001b[39;00m\n",
            "\u001b[31mNameError\u001b[39m: name 'tfidf_vectorizer' is not defined"
          ]
        }
      ],
      "source": [
        "from sklearn.metrics import f1_score\n",
        "# 4.1. Classification (Model Trainer) [99%]\n",
        "# Fit the TF-IDF vectorizer on the training data and transform\n",
        "X_train_vectorized = tfidf_vectorizer.fit_transform(text_train)\n",
        "X_test_vectorized = tfidf_vectorizer.transform(text_test)\n",
        "\n",
        "\n",
        "# Multinomial Naive Bayes\n",
        "mnb = MultinomialNB().fit(X_train_vectorized, label_train)\n",
        "y_pred_mnb = mnb.predict(X_test_vectorized)\n",
        "print(f\"Naive Bayes\\nAccuracy: {accuracy_score(label_test, y_pred_mnb):.2f}\\nF1-Score : {f1_score(label_test, y_pred_rf):.2f}\")\n",
        "print(\"\\n-----\\n\")\n",
        "# Random Forest\n",
        "rf = RandomForestClassifier().fit(X_train_vectorized, label_train)\n",
        "y_pred_rf = rf.predict(X_test_vectorized)\n",
        "print(f\"Random Forest\\nAccuracy: {accuracy_score(label_test, y_pred_rf):.2f}\\nF1-Score : {f1_score(label_test, y_pred_rf):.2f}\")"
      ]
    },
    {
      "cell_type": "code",
      "execution_count": 18,
      "metadata": {
        "id": "KxuIyS-tVduo"
      },
      "outputs": [
        {
          "ename": "ModuleNotFoundError",
          "evalue": "No module named 'seaborn'",
          "output_type": "error",
          "traceback": [
            "\u001b[31m---------------------------------------------------------------------------\u001b[39m",
            "\u001b[31mModuleNotFoundError\u001b[39m                       Traceback (most recent call last)",
            "\u001b[36mCell\u001b[39m\u001b[36m \u001b[39m\u001b[32mIn[18]\u001b[39m\u001b[32m, line 3\u001b[39m\n\u001b[32m      1\u001b[39m \u001b[38;5;66;03m# 5. Analysis (Matriz) [30% ainda não analisei se funciona mesmo]\u001b[39;00m\n\u001b[32m      2\u001b[39m \u001b[38;5;28;01mfrom\u001b[39;00m\u001b[38;5;250m \u001b[39m\u001b[34;01msklearn\u001b[39;00m\u001b[34;01m.\u001b[39;00m\u001b[34;01mmetrics\u001b[39;00m\u001b[38;5;250m \u001b[39m\u001b[38;5;28;01mimport\u001b[39;00m confusion_matrix\n\u001b[32m----> \u001b[39m\u001b[32m3\u001b[39m \u001b[38;5;28;01mimport\u001b[39;00m\u001b[38;5;250m \u001b[39m\u001b[34;01mseaborn\u001b[39;00m\u001b[38;5;250m \u001b[39m\u001b[38;5;28;01mas\u001b[39;00m\u001b[38;5;250m \u001b[39m\u001b[34;01msns\u001b[39;00m\n\u001b[32m      5\u001b[39m confusion_metrics = confusion_matrix(label_test, y_pred_mnb)\n\u001b[32m      7\u001b[39m class_names = np.unique(np.concatenate((label_test, y_pred_mnb)))\n",
            "\u001b[31mModuleNotFoundError\u001b[39m: No module named 'seaborn'"
          ]
        }
      ],
      "source": [
        "# 5. Analysis (Matriz) [30% ainda não analisei se funciona mesmo]\n",
        "from sklearn.metrics import confusion_matrix\n",
        "import seaborn as sns\n",
        "\n",
        "confusion_metrics = confusion_matrix(label_test, y_pred_mnb)\n",
        "\n",
        "class_names = np.unique(np.concatenate((label_test, y_pred_mnb)))\n",
        "sns.heatmap(confusion_metrics, annot=True, fmt='d', cmap='Greens', xticklabels=class_names, yticklabels=class_names)\n",
        "\n",
        "plt.title('Confusion Matrix')\n",
        "plt.ylabel('Actual Labels')\n",
        "plt.xlabel('Predicted Labels')\n",
        "plt.show()"
      ]
    },
    {
      "cell_type": "code",
      "execution_count": null,
      "metadata": {
        "id": "s8WI9I-qVDlx"
      },
      "outputs": [
        {
          "ename": "",
          "evalue": "",
          "output_type": "error",
          "traceback": [
            "\u001b[1;31mnotebook controller is DISPOSED. \n",
            "\u001b[1;31mConsulte o <a href='command:jupyter.viewOutput'>log</a> do Jupyter para obter mais detalhes."
          ]
        }
      ],
      "source": [
        "# 4.2 Classification (Exemple Prediction) [0% ainda não testei nem estudei]\n",
        "teste = tfidf_vectorizer.transform([\"Você é um lindo\"])\n",
        "rf.predict(teste)"
      ]
    },
    {
      "cell_type": "code",
      "execution_count": null,
      "metadata": {
        "id": "iSellO1Klg54"
      },
      "outputs": [
        {
          "ename": "",
          "evalue": "",
          "output_type": "error",
          "traceback": [
            "\u001b[1;31mnotebook controller is DISPOSED. \n",
            "\u001b[1;31mConsulte o <a href='command:jupyter.viewOutput'>log</a> do Jupyter para obter mais detalhes."
          ]
        }
      ],
      "source": [
        "# 4.2 Classification (Exemple Prediction) [0% ainda não testei nem estudei]\n",
        "teste = tfidf_vectorizer.transform([\"Você é um bosta\"])\n",
        "rf.predict(teste)"
      ]
    }
  ],
  "metadata": {
    "colab": {
      "provenance": []
    },
    "kernelspec": {
      "display_name": "Python 3",
      "name": "python3"
    },
    "language_info": {
      "codemirror_mode": {
        "name": "ipython",
        "version": 3
      },
      "file_extension": ".py",
      "mimetype": "text/x-python",
      "name": "python",
      "nbconvert_exporter": "python",
      "pygments_lexer": "ipython3",
      "version": "3.13.1"
    }
  },
  "nbformat": 4,
  "nbformat_minor": 0
}
